{
 "cells": [
  {
   "cell_type": "code",
   "execution_count": 1,
   "metadata": {},
   "outputs": [],
   "source": [
    "%load_ext autoreload\n",
    "%autoreload 2\n",
    "%matplotlib inline\n",
    "import sys\n",
    "sys.path.append(\"..\") #TODO: make /cid a package, then delete this\n",
    "import numpy as np\n",
    "from cid import CID\n",
    "from cpd import UniformRandomCPD, FunctionCPD, DecisionDomain\n",
    "from analyze.effects import total_effect, introduced_total_effect"
   ]
  },
  {
   "cell_type": "code",
   "execution_count": 2,
   "metadata": {},
   "outputs": [
    {
     "data": {
      "text/html": [
       "<script>\n",
       "code_show_err=false; \n",
       "function code_toggle_err() {\n",
       " if (code_show_err){\n",
       " $('div.output_stderr').hide();\n",
       " } else {\n",
       " $('div.output_stderr').show();\n",
       " }\n",
       " code_show_err = !code_show_err\n",
       "} \n",
       "$( document ).ready(code_toggle_err);\n",
       "</script>\n",
       "To toggle on/off output_stderr, click <a href=\"javascript:code_toggle_err()\">here</a>."
      ],
      "text/plain": [
       "<IPython.core.display.HTML object>"
      ]
     },
     "execution_count": 2,
     "metadata": {},
     "output_type": "execute_result"
    }
   ],
   "source": [
    "from IPython.display import HTML\n",
    "HTML('''<script>\n",
    "code_show_err=false; \n",
    "function code_toggle_err() {\n",
    " if (code_show_err){\n",
    " $('div.output_stderr').hide();\n",
    " } else {\n",
    " $('div.output_stderr').show();\n",
    " }\n",
    " code_show_err = !code_show_err\n",
    "} \n",
    "$( document ).ready(code_toggle_err);\n",
    "</script>\n",
    "To toggle on/off output_stderr, click <a href=\"javascript:code_toggle_err()\">here</a>.''')"
   ]
  },
  {
   "cell_type": "markdown",
   "metadata": {},
   "source": [
    "Let's first create a CID where there is an introduced total effect."
   ]
  },
  {
   "cell_type": "code",
   "execution_count": 3,
   "metadata": {},
   "outputs": [
    {
     "data": {
      "image/png": "[encoded data removed]",
      "text/plain": [
       "<Figure size 432x288 with 1 Axes>"
      ]
     },
     "metadata": {},
     "output_type": "display_data"
    }
   ],
   "source": [
    "cid = CID([\n",
    "    ('A', 'X'),  # defining the graph's nodes and edges\n",
    "    ('Z', 'X'),\n",
    "    ('Z', 'Y'),\n",
    "    ('X', 'D'),\n",
    "    ('X', 'Y'),\n",
    "    ('D', 'U'),\n",
    "    ('Y', 'U')\n",
    "],\n",
    "    decision_nodes=['D'],\n",
    "    utility_nodes=['U'])\n",
    "\n",
    "cpd_A = UniformRandomCPD('A', 2)\n",
    "cpd_Z = UniformRandomCPD('Z', 2)\n",
    "cpd_X = FunctionCPD('X', lambda a, z: a*z, evidence=['A', 'Z'])\n",
    "cpd_D = DecisionDomain('D', [0, 1])\n",
    "cpd_Y = FunctionCPD('Y', lambda x, z: x + z, evidence=['X', 'Z'])\n",
    "cpd_U = FunctionCPD('U', lambda d, y: -(d - y) ** 2, evidence=['D', 'Y'])\n",
    "\n",
    "cid.add_cpds(cpd_A, cpd_D, cpd_Z, cpd_X, cpd_Y, cpd_U)\n",
    "\n",
    "cid.draw()"
   ]
  },
  {
   "cell_type": "code",
   "execution_count": 4,
   "metadata": {},
   "outputs": [
    {
     "name": "stderr",
     "output_type": "stream",
     "text": [
      "WARNING:root:Replacing existing CPD for Z\n",
      "WARNING:root:Replacing existing CPD for A\n",
      "WARNING:root:Replacing existing CPD for X\n",
      "WARNING:root:Replacing existing CPD for Y\n",
      "/Users/tomeveritt/.local/share/virtualenvs/pycid-7zdQ1pMl/lib/python3.9/site-packages/pgmpy/factors/discrete/DiscreteFactor.py:788: RuntimeWarning: invalid value encountered in true_divide\n",
      "  phi.values = phi.values / phi1.values\n",
      "Eliminating: D: 100%|██████████| 4/4 [00:00<00:00, 313.43it/s]\n",
      "Eliminating: D: 100%|██████████| 4/4 [00:00<00:00, 395.21it/s]\n",
      "WARNING:root:Replacing existing CPD for D\n",
      "WARNING:root:Replacing existing CPD for U\n",
      "Eliminating: D: 100%|██████████| 2/2 [00:00<00:00, 448.11it/s]\n"
     ]
    },
    {
     "data": {
      "text/plain": [
       "-0.16666666666666669"
      ]
     },
     "execution_count": 4,
     "metadata": {},
     "output_type": "execute_result"
    }
   ],
   "source": [
    "cid.impute_conditional_expectation_decision('D', 'Y')\n",
    "cid.expected_utility({})  # should be -0.1666"
   ]
  },
  {
   "cell_type": "code",
   "execution_count": 5,
   "metadata": {},
   "outputs": [
    {
     "name": "stderr",
     "output_type": "stream",
     "text": [
      "WARNING:root:Replacing existing CPD for Z\n",
      "WARNING:root:Replacing existing CPD for A\n",
      "WARNING:root:Replacing existing CPD for X\n",
      "WARNING:root:Replacing existing CPD for Y\n",
      "WARNING:root:Replacing existing CPD for D\n",
      "WARNING:root:Replacing existing CPD for U\n",
      "Eliminating: U: 100%|██████████| 3/3 [00:00<00:00, 591.61it/s]\n",
      "WARNING:root:Replacing existing CPD for Z\n",
      "WARNING:root:Replacing existing CPD for A\n",
      "WARNING:root:Replacing existing CPD for X\n",
      "WARNING:root:Replacing existing CPD for Y\n",
      "WARNING:root:Replacing existing CPD for D\n",
      "WARNING:root:Replacing existing CPD for U\n",
      "Eliminating: U: 100%|██████████| 3/3 [00:00<00:00, 455.09it/s]\n",
      "WARNING:root:Replacing existing CPD for Z\n",
      "WARNING:root:Replacing existing CPD for A\n",
      "WARNING:root:Replacing existing CPD for X\n",
      "WARNING:root:Replacing existing CPD for Y\n",
      "WARNING:root:Replacing existing CPD for D\n",
      "WARNING:root:Replacing existing CPD for U\n",
      "Eliminating: D: 100%|██████████| 4/4 [00:00<00:00, 386.44it/s]\n",
      "WARNING:root:Replacing existing CPD for Z\n",
      "WARNING:root:Replacing existing CPD for A\n",
      "WARNING:root:Replacing existing CPD for X\n",
      "WARNING:root:Replacing existing CPD for Y\n",
      "WARNING:root:Replacing existing CPD for D\n",
      "WARNING:root:Replacing existing CPD for U\n",
      "Eliminating: D: 100%|██████████| 4/4 [00:00<00:00, 434.89it/s]\n"
     ]
    },
    {
     "data": {
      "text/plain": [
       "0.3333333333333335"
      ]
     },
     "execution_count": 5,
     "metadata": {},
     "output_type": "execute_result"
    }
   ],
   "source": [
    "introduced_total_effect(cid, 'A', 'D', 'Y', 0, 1)"
   ]
  },
  {
   "cell_type": "code",
   "execution_count": 6,
   "metadata": {},
   "outputs": [
    {
     "name": "stderr",
     "output_type": "stream",
     "text": [
      "WARNING:root:Replacing existing CPD for e\n",
      "WARNING:root:Replacing existing CPD for A\n",
      "WARNING:root:Replacing existing CPD for Y\n",
      "WARNING:root:Replacing existing CPD for X\n",
      "Eliminating: D: 100%|██████████| 4/4 [00:00<00:00, 700.39it/s]\n",
      "Eliminating: D: 100%|██████████| 4/4 [00:00<00:00, 518.87it/s]\n",
      "WARNING:root:Replacing existing CPD for D\n",
      "WARNING:root:Replacing existing CPD for U\n"
     ]
    },
    {
     "data": {
      "image/png": "[encoded data removed]",
      "text/plain": [
       "<Figure size 432x288 with 1 Axes>"
      ]
     },
     "metadata": {},
     "output_type": "display_data"
    }
   ],
   "source": [
    "cid = CID([\n",
    "    ('A', 'Y'),  # defining the graph's nodes and edges\n",
    "    ('e', 'Y'),\n",
    "    ('Y', 'X'),\n",
    "    ('X', 'D'),\n",
    "    ('D', 'U'),\n",
    "    ('Y', 'U')],\n",
    "    decision_nodes=['D'],\n",
    "    utility_nodes=['U'])\n",
    "\n",
    "def func_y(a, e):\n",
    "    if a==0 and e==0:\n",
    "        return 0\n",
    "    elif a==0 and e==1:\n",
    "        return 0.75\n",
    "    elif a==1 and e==0:\n",
    "        return 0\n",
    "    else:\n",
    "        return 1\n",
    "\n",
    "cpd_e = UniformRandomCPD('e', 2)\n",
    "cpd_A = UniformRandomCPD('A', 2)\n",
    "cpd_Y = FunctionCPD('Y', func_y, evidence=['A', 'e'])\n",
    "cpd_X = FunctionCPD('X', lambda y: int(y>0.5), evidence=['Y'])\n",
    "cpd_D = DecisionDomain('D', [0, 1])\n",
    "\n",
    "cpd_U = FunctionCPD('U', lambda d, y: -(d-y)**2, evidence=['D', 'Y'])\n",
    "\n",
    "cid.add_cpds(cpd_A, cpd_D, cpd_e, cpd_X, cpd_Y, cpd_U)\n",
    "cid.impute_conditional_expectation_decision('D', 'Y')\n",
    "\n",
    "cid.draw()"
   ]
  },
  {
   "cell_type": "code",
   "execution_count": 7,
   "metadata": {},
   "outputs": [
    {
     "name": "stderr",
     "output_type": "stream",
     "text": [
      "WARNING:root:Replacing existing CPD for e\n",
      "WARNING:root:Replacing existing CPD for A\n",
      "WARNING:root:Replacing existing CPD for Y\n",
      "WARNING:root:Replacing existing CPD for X\n",
      "WARNING:root:Replacing existing CPD for D\n",
      "WARNING:root:Replacing existing CPD for U\n",
      "Eliminating: U: 100%|██████████| 3/3 [00:00<00:00, 480.76it/s]\n",
      "WARNING:root:Replacing existing CPD for e\n",
      "WARNING:root:Replacing existing CPD for A\n",
      "WARNING:root:Replacing existing CPD for Y\n",
      "WARNING:root:Replacing existing CPD for X\n",
      "WARNING:root:Replacing existing CPD for D\n",
      "WARNING:root:Replacing existing CPD for U\n",
      "Eliminating: U: 100%|██████████| 3/3 [00:00<00:00, 404.32it/s]\n",
      "WARNING:root:Replacing existing CPD for e\n",
      "WARNING:root:Replacing existing CPD for A\n",
      "WARNING:root:Replacing existing CPD for Y\n",
      "WARNING:root:Replacing existing CPD for X\n",
      "WARNING:root:Replacing existing CPD for D\n",
      "WARNING:root:Replacing existing CPD for U\n",
      "Eliminating: D: 100%|██████████| 5/5 [00:00<00:00, 470.37it/s]\n",
      "WARNING:root:Replacing existing CPD for e\n",
      "WARNING:root:Replacing existing CPD for A\n",
      "WARNING:root:Replacing existing CPD for Y\n",
      "WARNING:root:Replacing existing CPD for X\n",
      "WARNING:root:Replacing existing CPD for D\n",
      "WARNING:root:Replacing existing CPD for U\n",
      "Eliminating: D: 100%|██████████| 5/5 [00:00<00:00, 439.02it/s]\n"
     ]
    },
    {
     "data": {
      "text/plain": [
       "-0.125"
      ]
     },
     "execution_count": 7,
     "metadata": {},
     "output_type": "execute_result"
    }
   ],
   "source": [
    "introduced_total_effect(cid, 'A', 'D', 'Y', 0, 1)"
   ]
  },
  {
   "cell_type": "code",
   "execution_count": null,
   "metadata": {},
   "outputs": [],
   "source": []
  }
 ],
 "metadata": {
  "kernelspec": {
   "display_name": "Python 3",
   "language": "python",
   "name": "python3"
  },
  "language_info": {
   "codemirror_mode": {
    "name": "ipython",
    "version": 3
   },
   "file_extension": ".py",
   "mimetype": "text/x-python",
   "name": "python",
   "nbconvert_exporter": "python",
   "pygments_lexer": "ipython3",
   "version": "3.9.1"
  }
 },
 "nbformat": 4,
 "nbformat_minor": 2
}
